{
 "cells": [
  {
   "cell_type": "code",
   "execution_count": 1,
   "id": "d51c786c-4d6a-478f-a09b-a16b3e118f91",
   "metadata": {},
   "outputs": [],
   "source": [
    "import numpy as np\n",
    "import matplotlib.pyplot as plt"
   ]
  },
  {
   "cell_type": "markdown",
   "id": "f1a5649d-d2fa-4e3e-bf80-2dabf259ab9f",
   "metadata": {},
   "source": [
    "Harmonic Oscillator\n",
    "\n",
    "\n",
    "$ x(n) = \\sum\\limits_{k=1}^{K} A_k sin(\\phi_k(n)) $"
   ]
  },
  {
   "cell_type": "code",
   "execution_count": null,
   "id": "70818e6f-b3c9-4f05-8903-6a5f7456ed2a",
   "metadata": {},
   "outputs": [],
   "source": []
  }
 ],
 "metadata": {
  "kernelspec": {
   "display_name": "Python 3 (ipykernel)",
   "language": "python",
   "name": "python3"
  },
  "language_info": {
   "codemirror_mode": {
    "name": "ipython",
    "version": 3
   },
   "file_extension": ".py",
   "mimetype": "text/x-python",
   "name": "python",
   "nbconvert_exporter": "python",
   "pygments_lexer": "ipython3",
   "version": "3.12.4"
  }
 },
 "nbformat": 4,
 "nbformat_minor": 5
}
