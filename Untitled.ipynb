{
 "cells": [
  {
   "cell_type": "code",
   "execution_count": 1,
   "id": "d51c786c-4d6a-478f-a09b-a16b3e118f91",
   "metadata": {},
   "outputs": [],
   "source": [
    "import numpy as np\n",
    "import matplotlib.pyplot as plt"
   ]
  },
  {
   "cell_type": "markdown",
   "id": "f1a5649d-d2fa-4e3e-bf80-2dabf259ab9f",
   "metadata": {},
   "source": [
    "## Harmonic Oscillator\n",
    "\n",
    "At the core of DDSP's synthesis is the **sinusoidal oscillator**. A bank of oscillators generates a signal $x(n)$ over discrete time $n$ as:\n",
    "\n",
    "$\\quad\\large x(n) = \\sum\\limits_{k=1}^{K} A_k(n) \\sin(\\phi_k(n))$\n",
    "\n",
    "where:\n",
    "- $A_k(n)$: time-varying amplitude of the $k$-th sinusoidal component.\n",
    "- $\\phi_k(n)$: instantaneous phase.\n",
    "\n",
    "The phase $\\phi_k(n)$ evolves by integrating the instantaneous frequency $f_k(n)$:\n",
    "\n",
    "$\\quad\\large \\phi_k(n) = 2\\pi \\sum\\limits_{m=0}^{n} f_k(m) + \\phi_{0,k}$\n",
    "\n",
    "where:\n",
    "- $\\phi_{0,k}$: initial phase (can be randomized, fixed, or learned).\n",
    "\n",
    "For a **harmonic oscillator**, all frequencies are integer multiples of the fundamental frequency $f_0(n)$:\n",
    "\n",
    "$\\quad f_k(n) = k \\cdot f_0(n)$\n",
    "\n",
    "Thus, the oscillator is fully defined by:\n",
    "- $f_0(n)$: fundamental frequency.\n",
    "- $A_k(n)$: harmonic amplitudes.\n",
    "\n",
    "The harmonic amplitudes are **factorized** for interpretability:\n",
    "\n",
    "$\\quad A_k(n) = A(n) \\cdot c_k(n)$\n",
    "\n",
    "where:\n",
    "- $A(n)$: global amplitude (controls loudness).\n",
    "- $c_k(n)$: normalized harmonic distribution (controls spectral variations), satisfying:\n",
    "\n",
    "$\\quad\\sum\\limits_{k=0}^{K} c_k(n) = 1, \\quad c_k(n) \\geq 0$\n",
    "\n",
    "To ensure positivity, a **modified sigmoid nonlinearity** is applied to the network's outputs.\n"
   ]
  },
  {
   "cell_type": "markdown",
   "id": "77ced455-96bf-4caa-9d5b-d58e52064009",
   "metadata": {},
   "source": [
    "## Harmonic Synthesizer\n",
    "\n",
    "The harmonic synthesizer generates **101 harmonics**. Amplitude and harmonic distribution parameters are **upsampled** using overlapping **Hamming window** envelopes with:\n",
    "- Frame size: 128.\n",
    "- Hop size: 64.\n",
    "- Initial phase: fixed at 0.\n",
    "\n",
    "Absolute harmonic phase offsets don't impact perceptual quality, so spectrogram losses ignore them.\n",
    "\n",
    "Non-negativity is enforced for amplitudes, harmonic distributions, and filtered noise magnitudes via a **modified sigmoid**:\n",
    "\n",
    "$\\quad\\large y = 2.0 \\cdot \\sigma(x)^{\\log_{10}} + 10^{-7}$\n",
    "\n",
    "This modification stabilizes training by scaling the sigmoid output.\n"
   ]
  },
  {
   "cell_type": "code",
   "execution_count": null,
   "id": "1ede024c-cd5b-4dd1-9083-3f24af4fb47b",
   "metadata": {},
   "outputs": [],
   "source": []
  }
 ],
 "metadata": {
  "kernelspec": {
   "display_name": "Python 3 (ipykernel)",
   "language": "python",
   "name": "python3"
  },
  "language_info": {
   "codemirror_mode": {
    "name": "ipython",
    "version": 3
   },
   "file_extension": ".py",
   "mimetype": "text/x-python",
   "name": "python",
   "nbconvert_exporter": "python",
   "pygments_lexer": "ipython3",
   "version": "3.12.4"
  }
 },
 "nbformat": 4,
 "nbformat_minor": 5
}
